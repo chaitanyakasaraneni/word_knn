{
 "cells": [
  {
   "cell_type": "code",
   "execution_count": null,
   "metadata": {},
   "outputs": [],
   "source": [
    "!pip install word_knn"
   ]
  },
  {
   "cell_type": "code",
   "execution_count": 2,
   "metadata": {},
   "outputs": [
    {
     "name": "stdout",
     "output_type": "stream",
     "text": [
      "['cat', 'dog', 'kitten', 'de-clawed', 'tabby', 'miaow', 'feline', 'moggie', 'peke-faced', 'feline']\n"
     ]
    }
   ],
   "source": [
    "from word_knn import from_nlpl\n",
    "from pathlib import Path\n",
    "home = str(Path.home())\n",
    "closest_words = from_nlpl(home + \"/embeddings\", \"0\", False)\n",
    "print(closest_words.closest_words(\"cat\", 10))"
   ]
  }
 ],
 "metadata": {
  "kernelspec": {
   "display_name": "Python 3",
   "language": "python",
   "name": "python3"
  },
  "language_info": {
   "codemirror_mode": {
    "name": "ipython",
    "version": 3
   },
   "file_extension": ".py",
   "mimetype": "text/x-python",
   "name": "python",
   "nbconvert_exporter": "python",
   "pygments_lexer": "ipython3",
   "version": "3.6.8"
  }
 },
 "nbformat": 4,
 "nbformat_minor": 4
}
